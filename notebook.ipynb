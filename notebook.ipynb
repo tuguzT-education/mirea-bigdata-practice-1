{
 "cells": [
  {
   "cell_type": "markdown",
   "metadata": {},
   "source": [
    "# Практическая работа 1"
   ]
  },
  {
   "cell_type": "markdown",
   "metadata": {},
   "source": [
    "## Задание 1:\n",
    "\n",
    "Написать программу, которая вычисляет площадь фигуры,\n",
    "параметры которой подаются на вход. Фигуры, которые подаются на вход:\n",
    "треугольник, прямоугольник, круг. Результатом работы является словарь, где\n",
    "ключ – это название фигуры, а значение – это площадь."
   ]
  },
  {
   "cell_type": "markdown",
   "metadata": {},
   "source": [
    "Для выполнения задания определим 2 функции:\n",
    "- `triangle_area_heron`, которая реализует алгоримт решения задания 4,\n",
    "- и `calc_area`, которая реализует алгоритм решения задания 1."
   ]
  },
  {
   "cell_type": "code",
   "execution_count": 1,
   "metadata": {},
   "outputs": [],
   "source": [
    "import math\n",
    "\n",
    "def triangle_area_heron(a: float, b: float, c: float) -> float:\n",
    "    p = (a + b + c) / 2\n",
    "    p = p * (p - a) * (p - b) * (p - c)\n",
    "    if p < 0:\n",
    "        raise ValueError\n",
    "    return math.sqrt(p)"
   ]
  },
  {
   "cell_type": "code",
   "execution_count": 2,
   "metadata": {},
   "outputs": [],
   "source": [
    "def calc_area(a: float, b: float, c: float) -> dict:\n",
    "    return {\n",
    "        'circle': math.pi * (a ** 2),\n",
    "        'rectangle': a * b,\n",
    "        'triangle': triangle_area_heron(a, b, c),\n",
    "    }"
   ]
  },
  {
   "cell_type": "markdown",
   "metadata": {},
   "source": [
    "Напишем решение задания, используя 2-ю функцию:"
   ]
  },
  {
   "cell_type": "code",
   "execution_count": 4,
   "metadata": {},
   "outputs": [
    {
     "name": "stdout",
     "output_type": "stream",
     "text": [
      "Введите 3 числа, разделив их пробелом\n",
      "Площадь круга: 3.141592653589793\n",
      "{'circle': 3.141592653589793, 'rectangle': 2.0, 'triangle': 0.0}\n",
      "Площадь прямоугольника: 2.0\n",
      "Площадь треугольника: 0.0\n"
     ]
    }
   ],
   "source": [
    "print('Введите 3 числа, разделив их пробелом')\n",
    "try:\n",
    "    a, b, c = [float(n) for n in input().split()]\n",
    "    result = calc_area(a, b, c)\n",
    "    circle = result['circle']\n",
    "    rectangle = result['rectangle']\n",
    "    triangle = result['triangle']\n",
    "    print(f'Площадь круга: {circle}')\n",
    "    print(result)\n",
    "    print(f'Площадь прямоугольника: {rectangle}')\n",
    "    print(f'Площадь треугольника: {triangle}')\n",
    "except ValueError:\n",
    "    print('Данные введены неверно!')"
   ]
  },
  {
   "cell_type": "markdown",
   "metadata": {},
   "source": [
    "## Задание 2\n",
    "\n",
    "Написать программу, которая на вход получает два числа и\n",
    "операцию, которую к ним нужно применить. Должны быть реализованы\n",
    "следующие операции: +, -, /, //, abs – модуль, pow или ** – возведение в\n",
    "степень. Результатом работы программы является одно число."
   ]
  },
  {
   "cell_type": "markdown",
   "metadata": {},
   "source": [
    "Для выполнения задачи определим функцию с алгоритмом для решения задания 2:"
   ]
  },
  {
   "cell_type": "code",
   "execution_count": 5,
   "metadata": {},
   "outputs": [],
   "source": [
    "def evaluate(a: float, b: float, operation: str) -> float:\n",
    "    match operation:\n",
    "        case 'abs':\n",
    "            return abs(a - b)\n",
    "        case 'pow':\n",
    "            return a ** b\n",
    "        case _:\n",
    "            return eval(f'{a} {operation} {b}')"
   ]
  },
  {
   "cell_type": "markdown",
   "metadata": {},
   "source": [
    "Напишем решение задания, используя функцию выше:"
   ]
  },
  {
   "cell_type": "code",
   "execution_count": 6,
   "metadata": {},
   "outputs": [
    {
     "name": "stdout",
     "output_type": "stream",
     "text": [
      "Введите 2 числа и операцию, которую необходимо выполнить с ними, разделив их пробелом\n",
      "Результат выполнения операции: 3.0\n"
     ]
    }
   ],
   "source": [
    "print('Введите 2 числа и операцию, которую необходимо выполнить с ними, разделив их пробелом')\n",
    "try:\n",
    "    a, b, operation = input().split()\n",
    "    a, b, operation = float(a), float(b), str(operation)\n",
    "    result = evaluate(a, b, operation)\n",
    "    print(f'Результат выполнения операции: {result}')\n",
    "except (ValueError, SyntaxError):\n",
    "    print('Данные введены неверно!')"
   ]
  },
  {
   "cell_type": "markdown",
   "metadata": {},
   "source": [
    "## Задание 3\n",
    "\n",
    "Написать программу, вычисляющую площадь треугольника по\n",
    "переданным длинам трёх его сторон по формуле Герона:\n",
    "\n",
    "√p(p − a)(p − b)(p − c),\n",
    "\n",
    "где p = (a + b + c) / 2."
   ]
  },
  {
   "cell_type": "markdown",
   "metadata": {},
   "source": [
    "Функция с алгоритмом решения задания уже была написана в задании 1,\n",
    "поэтому сразу напишем решение задания:"
   ]
  },
  {
   "cell_type": "code",
   "execution_count": 7,
   "metadata": {},
   "outputs": [
    {
     "name": "stdout",
     "output_type": "stream",
     "text": [
      "Введите 3 стороны треугольника, разделив их пробелом\n",
      "Площадь треугольника по формуле Герона: 6.0\n"
     ]
    }
   ],
   "source": [
    "print('Введите 3 стороны треугольника, разделив их пробелом')\n",
    "try:\n",
    "    a, b, c = [int(n) for n in input().split()]\n",
    "    result = triangle_area_heron(a, b, c)\n",
    "    print(f'Площадь треугольника по формуле Герона: {result}')\n",
    "except ValueError:\n",
    "    print('Данные введены неверно!')"
   ]
  }
 ],
 "metadata": {
  "kernelspec": {
   "display_name": "Python 3 (ipykernel)",
   "language": "python",
   "name": "python3"
  },
  "language_info": {
   "codemirror_mode": {
    "name": "ipython",
    "version": 3
   },
   "file_extension": ".py",
   "mimetype": "text/x-python",
   "name": "python",
   "nbconvert_exporter": "python",
   "pygments_lexer": "ipython3",
   "version": "3.10.6"
  }
 },
 "nbformat": 4,
 "nbformat_minor": 1
}
